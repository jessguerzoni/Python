{
  "nbformat": 4,
  "nbformat_minor": 0,
  "metadata": {
    "colab": {
      "provenance": [],
      "authorship_tag": "ABX9TyP4oWI+rfpwGyt8+y+zpz6g",
      "include_colab_link": true
    },
    "kernelspec": {
      "name": "python3",
      "display_name": "Python 3"
    },
    "language_info": {
      "name": "python"
    }
  },
  "cells": [
    {
      "cell_type": "markdown",
      "metadata": {
        "id": "view-in-github",
        "colab_type": "text"
      },
      "source": [
        "<a href=\"https://colab.research.google.com/github/jessguerzoni/Python/blob/main/AulaNumPy.ipynb\" target=\"_parent\"><img src=\"https://colab.research.google.com/assets/colab-badge.svg\" alt=\"Open In Colab\"/></a>"
      ]
    },
    {
      "cell_type": "markdown",
      "source": [
        "Numpy"
      ],
      "metadata": {
        "id": "ogJ2YVsJgFTu"
      }
    },
    {
      "cell_type": "code",
      "execution_count": null,
      "metadata": {
        "colab": {
          "base_uri": "https://localhost:8080/"
        },
        "id": "TqtrqhBLf582",
        "outputId": "e13e38d7-ea12-4aac-ad14-cf391850f767"
      },
      "outputs": [
        {
          "output_type": "stream",
          "name": "stdout",
          "text": [
            "[[1 2 3]\n",
            " [4 5 6]\n",
            " [7 8 9]]\n",
            "[1 2 3]\n"
          ]
        }
      ],
      "source": [
        "import numpy as np\n",
        "#numpy array unidimensional\n",
        "a = np.array([1,2,3])\n",
        "#numpy array bidimensional (matriz)\n",
        "\n",
        "b= np.array([[1,2,3],[4,5,6],[7,8,9]])\n",
        "print(b)\n",
        "\n",
        "print(a)"
      ]
    },
    {
      "cell_type": "markdown",
      "source": [
        "Criando array com numpy\n"
      ],
      "metadata": {
        "id": "nxFaRPIEiNGr"
      }
    },
    {
      "cell_type": "code",
      "source": [
        "#estrutura uma matriz de 1\n",
        "\n",
        "Mtz=np.ones((5,5))\n",
        "print(Mtz)\n",
        "\n",
        "Mtz=np.arange(10)\n",
        "print(Mtz)\n",
        "\n",
        "arr=np.arange(10,30,2)\n",
        "print(arr)"
      ],
      "metadata": {
        "colab": {
          "base_uri": "https://localhost:8080/"
        },
        "id": "NXCoXeOOiS-j",
        "outputId": "0a7c8540-6313-452c-8c64-69a366fe18ac"
      },
      "execution_count": null,
      "outputs": [
        {
          "output_type": "stream",
          "name": "stdout",
          "text": [
            "[[1. 1. 1. 1. 1.]\n",
            " [1. 1. 1. 1. 1.]\n",
            " [1. 1. 1. 1. 1.]\n",
            " [1. 1. 1. 1. 1.]\n",
            " [1. 1. 1. 1. 1.]]\n",
            "[0 1 2 3 4 5 6 7 8 9]\n",
            "[10 12 14 16 18 20 22 24 26 28]\n"
          ]
        }
      ]
    },
    {
      "cell_type": "markdown",
      "source": [
        "Operações numpy array"
      ],
      "metadata": {
        "id": "umJwYo-XjSs-"
      }
    },
    {
      "cell_type": "code",
      "source": [
        "ar1=np.array([3,4,6,2])\n",
        "ar2=np.array([1,7,9,3])\n",
        "\n",
        "#menor e maior elemento\n",
        "print(ar1.min(),ar1.max())\n",
        "#o indice onde eles estao\n",
        "print(ar1.argmin(),ar1.argmax())\n",
        "\n",
        "print(ar2.min(),ar2.max())\n",
        "print(ar2.argmin(),ar2.argmax())\n",
        "\n",
        "#media\n",
        "print(ar1.mean(),ar2.mean())\n",
        "print(ar2.sum())\n",
        "\n",
        "#operações basicas\n",
        "print(ar1+ar2)\n",
        "print(ar1-ar2)\n",
        "print(ar1*ar2)\n",
        "print(ar1/ar2)\n",
        "\n",
        "#concatenar(misturar)\n",
        "\n",
        "print(np.concatenate((ar1,ar2)))"
      ],
      "metadata": {
        "colab": {
          "base_uri": "https://localhost:8080/"
        },
        "id": "5u9mzJOajVOL",
        "outputId": "a62fdf26-8a67-4db0-efe3-fd9a6d64a20a"
      },
      "execution_count": null,
      "outputs": [
        {
          "output_type": "stream",
          "name": "stdout",
          "text": [
            "2 6\n",
            "3 2\n",
            "1 9\n",
            "0 2\n",
            "3.75 5.0\n",
            "20\n",
            "[ 4 11 15  5]\n",
            "[ 2 -3 -3 -1]\n",
            "[ 3 28 54  6]\n",
            "[3.         0.57142857 0.66666667 0.66666667]\n",
            "[3 4 6 2 1 7 9 3]\n"
          ]
        }
      ]
    },
    {
      "cell_type": "markdown",
      "source": [
        "Reshape de numpy array\n"
      ],
      "metadata": {
        "id": "pzaC3IiqmqOG"
      }
    },
    {
      "cell_type": "code",
      "source": [
        "mtz=np.arange(9)\n",
        "print(mtz)\n",
        "\n",
        "#dar um reshape\n",
        "mtz2=np.arange(9).reshape(3,3)\n",
        "print(mtz2)\n",
        "\n",
        "#numero de eleementos\n",
        "print(mtz2.size)\n",
        "\n",
        "#formato\n",
        "print(mtz2.shape)\n",
        "#numero de dimensoes\n",
        "print(mtz2.ndim)\n",
        "\n"
      ],
      "metadata": {
        "colab": {
          "base_uri": "https://localhost:8080/"
        },
        "id": "KMt1wQtZmviS",
        "outputId": "215e5982-3a72-4168-9159-d7fde5ac0331"
      },
      "execution_count": null,
      "outputs": [
        {
          "output_type": "stream",
          "name": "stdout",
          "text": [
            "[0 1 2 3 4 5 6 7 8]\n",
            "[[0 1 2]\n",
            " [3 4 5]\n",
            " [6 7 8]]\n",
            "9\n",
            "(3, 3)\n",
            "2\n"
          ]
        }
      ]
    },
    {
      "cell_type": "markdown",
      "source": [
        "Operaçoes das linhas e colunas"
      ],
      "metadata": {
        "id": "fyyxy-c0n5nJ"
      }
    },
    {
      "cell_type": "code",
      "source": [
        "mtz2=np.arange(9).reshape(3,3)\n",
        "print(mtz2)\n",
        "\n",
        "print(mtz2.sum(axis=0)) #soma coluna\n",
        "print(mtz2.sum(axis=1)) #soma linha"
      ],
      "metadata": {
        "colab": {
          "base_uri": "https://localhost:8080/"
        },
        "id": "a1FWOYoUn74T",
        "outputId": "feed2163-e094-4770-9497-362d33346798"
      },
      "execution_count": null,
      "outputs": [
        {
          "output_type": "stream",
          "name": "stdout",
          "text": [
            "[[0 1 2]\n",
            " [3 4 5]\n",
            " [6 7 8]]\n",
            "[ 9 12 15]\n",
            "[ 3 12 21]\n"
          ]
        }
      ]
    },
    {
      "cell_type": "markdown",
      "source": [
        "broadcasting (operacao entre um vetor e um escalar)"
      ],
      "metadata": {
        "id": "vnU4xNnzpPFc"
      }
    },
    {
      "cell_type": "code",
      "source": [
        "print(mtz2/2)\n",
        "\n"
      ],
      "metadata": {
        "colab": {
          "base_uri": "https://localhost:8080/"
        },
        "id": "0JQacuFzpQnw",
        "outputId": "fc8975af-b73b-4314-debb-bd0e13156dd8"
      },
      "execution_count": null,
      "outputs": [
        {
          "output_type": "stream",
          "name": "stdout",
          "text": [
            "[[0.  0.5 1. ]\n",
            " [1.5 2.  2.5]\n",
            " [3.  3.5 4. ]]\n"
          ]
        }
      ]
    },
    {
      "cell_type": "markdown",
      "source": [
        "Elementos aleatorios"
      ],
      "metadata": {
        "id": "tAe2erN8qfu3"
      }
    },
    {
      "cell_type": "code",
      "source": [
        "np.random.seed(10)\n",
        "ar1=np.random.randint(20,50,[5,5])\n",
        "print(ar1)\n",
        "\n",
        "#extrair elementos unicos\n",
        "\n",
        "#numeros unicos e quantas vezes ele se repete\n",
        "print(np.unique(ar1,return_counts=True))\n",
        "\n"
      ],
      "metadata": {
        "colab": {
          "base_uri": "https://localhost:8080/"
        },
        "id": "iyyl_sXAqe99",
        "outputId": "ea8bd491-ca80-401b-f5f8-682fa1f944a8"
      },
      "execution_count": null,
      "outputs": [
        {
          "output_type": "stream",
          "name": "stdout",
          "text": [
            "[[29 49 24 35 20]\n",
            " [37 47 48 45 49]\n",
            " [36 49 37 46 28]\n",
            " [29 20 30 28 42]\n",
            " [24 39 36 24 35]]\n",
            "(array([20, 24, 28, 29, 30, 35, 36, 37, 39, 42, 45, 46, 47, 48, 49]), array([2, 3, 2, 2, 1, 2, 2, 2, 1, 1, 1, 1, 1, 1, 3]))\n"
          ]
        }
      ]
    }
  ]
}